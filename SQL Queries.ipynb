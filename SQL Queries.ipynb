{
 "cells": [
  {
   "cell_type": "code",
   "execution_count": 1,
   "metadata": {},
   "outputs": [],
   "source": [
    "import mysql.connector\n",
    "\n",
    "mydb = mysql.connector.connect(\n",
    "    host=\"localhost\",\n",
    "    user=\"root\",\n",
    "    password=\"password\",\n",
    "    database=\"bball tourney\"\n",
    ")"
   ]
  },
  {
   "cell_type": "markdown",
   "metadata": {},
   "source": [
    "![schema picture](https://github.com/MichaelMazel/Beer-EDA-and-Prediction/blob/main/EDA-and-Prediction_files/figure-gfm/unnamed-chunk-15-1.png)"
   ]
  },
  {
   "cell_type": "code",
   "execution_count": 2,
   "metadata": {},
   "outputs": [
    {
     "name": "stdout",
     "output_type": "stream",
     "text": [
      "('Kathryn Patterson', '16 Maple Lane, Auburn, WA 98002')\n",
      "('Ann Patterson', '16 Maple Lane, Auburn, WA 98002')\n",
      "('Neil Patterson', '16 Maple Lane, Auburn, WA 98002')\n",
      "('Bill Peterson', '603 Connection, Frisco, WA 98002')\n",
      "('Steve Smity', '160 Elm Street, Auburn, WA 98002')\n",
      "('Rachel Patterson', '16 Maple Lane, Auburn, WA 98002')\n",
      "('Megan Patterson', '16 Maple Lane, Auburn, WA 98002')\n",
      "('Carol Viescas', '16345 NE 32nd Street, Bellevue, WA 98004')\n",
      "('Richard Sheskey', '17950 N 59th, Seattle, WA 98011')\n",
      "('Sara Sheskey', '17950 N 59th, Seattle, WA 98011')\n",
      "('Sarah Thompson', '122 Spring Valley Drive, Duvall, WA 98019')\n",
      "('William Thompson', '122 Spring Valley Drive, Duvall, WA 98019')\n",
      "('Mary Thompson', '122 Spring Valley Drive, Duvall, WA 98019')\n",
      "('Michael Hernandez', '47 Harvard Drive, Kirkland, WA 98033')\n",
      "('Steve Pundt', '722 Moss Bay Blvd., Kirkland, WA 98033')\n",
      "('Josey Lane', '227  Bay Moss, Kandy, WA 98033')\n",
      "('Kendra Hernandez', '47 Harvard Drive, Kirkland, WA 98033')\n",
      "('Kevin Murray', '154 Oklahoma way, Kirkland, WA 98033')\n",
      "('Suzanne Viescas', '218 Main Street, Redmond, WA 98052')\n",
      "('Caleb Viescas', '16679 NE 42nd Court, Redmond, WA 98052')\n",
      "('David Cunningham', '4110 Old Redmond Rd., Redmond, WA 98052')\n",
      "('Michael Viescas', '218 Main Street, Redmond, WA 98052')\n",
      "('John Viescas', '218 Main Street, Redmond, WA 98052')\n",
      "('Stephanie Viescas', '16679 NE 42nd Court, Redmond, WA 98052')\n",
      "('David Viescas', '16679 NE 42nd Court, Redmond, WA 98052')\n",
      "('Gary Hallmark', 'Route 2, Box 203B, Woodinville, WA 98072')\n",
      "('Elizabeth Hallmark', 'Route 2, Box 203B, Woodinville, WA 98072')\n",
      "('Bailey Hallmark', 'Route 2, Box 203B, Woodinville, WA 98072')\n",
      "('Adam Jay', '123 Main, Woodland, WA 98072')\n",
      "('Alaina Hallmark', 'Route 2, Box 203B, Woodinville, WA 98072')\n",
      "('Art Bails', '400 Preston Rd, Irving, WA 98072')\n",
      "('John Kennedy', '2957 W 33rd, Ballard, WA 98099')\n",
      "('Angel Kennedy', '2957 W 33rd, Ballard, WA 98099')\n",
      "('Alastair Black', '4726 - 11th Ave. N.E., Seattle, WA 98105')\n",
      "('Zachary Ehrlich', '507 - 20th Ave. E., Seattle, WA 98122')\n",
      "('David Fournier', '67 Willow Drive, Bothell, WA 98123')\n",
      "('Barbara Fournier', '67 Willow Drive, Bothell, WA 98123')\n",
      "('Jersey City', '809 W Way, Phoenix, WA 98401')\n",
      "('Joe Rosales', '908 W. Capital Way, Tacoma, WA 98401')\n",
      "('Isiah Greenland', '967 Marsh Lane, Tacoma, WA 98401')\n"
     ]
    }
   ],
   "source": [
    "# Display all players and their address formatted suitably for a mailing list, sorted by zip code\n",
    "mycursor = mydb.cursor()        \n",
    "\n",
    "mycursor.execute('SELECT CONCAT(PlayerFirstname,\" \",playerlastname) name,  \\\n",
    "CONCAT(playeraddress,\", \",playercity,\", \",playerstate,\" \",playerzip) address \\\n",
    "FROM `bball tourney`.player_info order by playerzip;'\n",
    "\n",
    ")\n",
    "                 \n",
    "myresult = mycursor.fetchall()\n",
    "for x in myresult:\n",
    "  print(x)"
   ]
  },
  {
   "cell_type": "code",
   "execution_count": 3,
   "metadata": {},
   "outputs": [
    {
     "name": "stdout",
     "output_type": "stream",
     "text": [
      "(18,)\n",
      "(19,)\n"
     ]
    }
   ],
   "source": [
    "# Show tournaments IDs that have not been played yet\n",
    "\n",
    "mycursor.execute('SELECT tourneyid FROM tournaments \\\n",
    "WHERE NOT EXISTS ( \\\n",
    "SELECT * FROM tourneymatches WHERE \\\n",
    "tournaments.tourneyid = tourneymatches.tourneyid);'\n",
    ")\n",
    "                 \n",
    "myresult = mycursor.fetchall()\n",
    "for x in myresult:\n",
    "  print(x)"
   ]
  },
  {
   "cell_type": "code",
   "execution_count": 4,
   "metadata": {},
   "outputs": [
    {
     "name": "stdout",
     "output_type": "stream",
     "text": [
      "('John', 'Kennedy', Decimal('267'))\n",
      "('Sarah', 'Thompson', Decimal('258'))\n",
      "('David', 'Viescas', Decimal('245'))\n",
      "('Kathryn', 'Patterson', Decimal('244'))\n",
      "('Neil', 'Patterson', Decimal('234'))\n",
      "('Steve', 'Pundt', Decimal('233'))\n",
      "('Caleb', 'Viescas', Decimal('230'))\n",
      "('Rachel', 'Patterson', Decimal('225'))\n",
      "('David', 'Cunningham', Decimal('206'))\n",
      "('Mary', 'Thompson', Decimal('200'))\n"
     ]
    }
   ],
   "source": [
    "# Display name of top 10 scorers (Players who scored highest) along with their score\n",
    "\n",
    "mycursor.execute('SELECT playerfirstname, playerlastname, sum(PlayerScore) AS total_score  \\\n",
    "FROM scores JOIN player_info On scores.playerID = player_info.playerID \\\n",
    "GROUP BY scores.playerID ORDER BY total_score DESC LIMIT 10;'\n",
    ")\n",
    "                 \n",
    "myresult = mycursor.fetchall()\n",
    "for x in myresult:\n",
    "  print(x)"
   ]
  },
  {
   "cell_type": "code",
   "execution_count": 5,
   "metadata": {},
   "outputs": [
    {
     "ename": "SyntaxError",
     "evalue": "EOL while scanning string literal (<ipython-input-5-4b7183cce6b1>, line 3)",
     "output_type": "error",
     "traceback": [
      "\u001b[1;36m  File \u001b[1;32m\"<ipython-input-5-4b7183cce6b1>\"\u001b[1;36m, line \u001b[1;32m3\u001b[0m\n\u001b[1;33m    mycursor.execute('SELECT playerfirstname, playerlastname, MAX(PlayerScore) AS total_score \\\u001b[0m\n\u001b[1;37m                                                                                                ^\u001b[0m\n\u001b[1;31mSyntaxError\u001b[0m\u001b[1;31m:\u001b[0m EOL while scanning string literal\n"
     ]
    }
   ],
   "source": [
    "# Display players’ names along with their highest score \n",
    "\n",
    "mycursor.execute('SELECT playerfirstname, playerlastname, MAX(PlayerScore) AS total_score \\ \n",
    "FROM scores JOIN player_info On scores.playerID = player_info.playerID \\\n",
    "GROUP BY scores.playerID;'\n",
    ")\n",
    "                 \n",
    "myresult = mycursor.fetchall()\n",
    "for x in myresult:\n",
    "  print(x)"
   ]
  },
  {
   "cell_type": "code",
   "execution_count": null,
   "metadata": {},
   "outputs": [],
   "source": [
    "mydb = mysql.connector.connect(\n",
    "    host=\"localhost\",\n",
    "    user=\"root\",\n",
    "    password=\"password\",\n",
    "    database=\"salesorders\"\n",
    ")"
   ]
  },
  {
   "cell_type": "code",
   "execution_count": null,
   "metadata": {},
   "outputs": [],
   "source": [
    "# List the CUSTOMERS who have purchased a bike but not a helmet\n",
    "mycursor = mydb.cursor()        \n",
    "\n",
    "mycursor.execute(\"SELECT distinct concat(CustFirstName,' ', CustLastName) NAME \\\n",
    "FROM customers WHERE customers.CustomerID IN ( \\\n",
    "SELECT customers.CustomerID FROM customers JOIN orders \\\n",
    "on customers.CustomerID = orders.CustomerID join order_details \\\n",
    "on orders.OrderNumber = order_details.OrderNumber join products \\\n",
    "on order_details.ProductNumber = products.ProductNumber WHERE \\\n",
    "categoryID = 2) and customers.CustomerID NOT IN ( \\\n",
    "SELECT customers.CustomerID FROM customers JOIN orders \\\n",
    "on customers.CustomerID = orders.CustomerID JOIN order_details \\\n",
    "on orders.OrderNumber = order_details.OrderNumber JOIN products \\\n",
    "on order_details.ProductNumber = products.ProductNumber WHERE \\\n",
    "ProductName LIKE '%HELMET');\"\n",
    ")\n",
    "                 \n",
    "myresult = mycursor.fetchall()\n",
    "for x in myresult:\n",
    "  print(x)"
   ]
  },
  {
   "cell_type": "code",
   "execution_count": null,
   "metadata": {},
   "outputs": [],
   "source": [
    "#Show the customer ORDERS that have a bike but do not have a helmet\n",
    "\n",
    "mycursor.execute(\"SELECT DISTINCT ordernumber FROM order_details AS X \\\n",
    "JOIN products on X.ProductNumber = products.ProductNumber \\\n",
    "WHERE categoryID = 2 AND NOT EXISTS ( \\\n",
    "SELECT * FROM order_details AS Y \\\n",
    "JOIN products on Y.ProductNumber = products.ProductNumber \\\n",
    "WHERE ProductName LIKE '%HELMET' AND \\\n",
    "X.ordernumber = y.ordernumber) LIMIT 10;\" #I limited to 10 orders for the sake of space\n",
    ")\n",
    "                 \n",
    "myresult = mycursor.fetchall()\n",
    "for x in myresult:\n",
    "  print(x)"
   ]
  },
  {
   "cell_type": "code",
   "execution_count": null,
   "metadata": {},
   "outputs": [],
   "source": [
    "# Display the customers and their orders that have a bike and a helmet in the same order\n",
    "\n",
    "mycursor.execute(\"SELECT CustFirstName, CustLastName, X.OrderNumber \\\n",
    "FROM customers JOIN orders \\\n",
    "on customers.CustomerID = orders.CustomerID join order_details AS X \\\n",
    "on orders.OrderNumber = X.OrderNumber join products \\\n",
    "on X.ProductNumber = products.ProductNumber  \\\n",
    "WHERE categoryID = 2 AND EXISTS ( \\\n",
    "SELECT * FROM customers JOIN orders \\\n",
    "on customers.CustomerID = orders.CustomerID join order_details AS Y \\\n",
    "on orders.OrderNumber = Y.OrderNumber join products \\\n",
    "on Y.ProductNumber = products.ProductNumber  \\\n",
    "WHERE ProductName LIKE '%HELMET' \\\n",
    "AND X.ordernumber = y.ordernumber) LIMIT 10;\" #I limited to 10 orders for the sake of space\n",
    ")\n",
    "                 \n",
    "myresult = mycursor.fetchall()\n",
    "for x in myresult:\n",
    "  print(x)"
   ]
  },
  {
   "cell_type": "code",
   "execution_count": null,
   "metadata": {},
   "outputs": [],
   "source": [
    "# Display the customers who have never ordered bikes or tires\n",
    "mycursor.execute(\"SELECT distinct concat(CustFirstName,' ',CustLastName) NAME \\\n",
    "FROM customers WHERE customers.CustomerID not in ( \\\n",
    "SELECT customers.CustomerID FROM customers JOIN orders \\\n",
    "on customers.CustomerID = orders.CustomerID join order_details \\\n",
    "on orders.OrderNumber = order_details.OrderNumber join products \\\n",
    "on order_details.ProductNumber = products.ProductNumber WHERE \\\n",
    "categoryID = 2) and customers.CustomerID NOT in ( \\\n",
    "SELECT customers.CustomerID FROM customers JOIN orders \\\n",
    "on customers.CustomerID = orders.CustomerID JOIN order_details \\\n",
    "on orders.OrderNumber = order_details.OrderNumber JOIN products \\\n",
    "on order_details.ProductNumber = products.ProductNumber WHERE \\\n",
    "categoryID = 6);\"\n",
    ")\n",
    "                 \n",
    "myresult = mycursor.fetchall()\n",
    "for x in myresult:\n",
    "  print(x)"
   ]
  },
  {
   "cell_type": "code",
   "execution_count": null,
   "metadata": {},
   "outputs": [],
   "source": [
    "#mycursor.close()"
   ]
  }
 ],
 "metadata": {
  "kernelspec": {
   "display_name": "Python 3",
   "language": "python",
   "name": "python3"
  },
  "language_info": {
   "codemirror_mode": {
    "name": "ipython",
    "version": 3
   },
   "file_extension": ".py",
   "mimetype": "text/x-python",
   "name": "python",
   "nbconvert_exporter": "python",
   "pygments_lexer": "ipython3",
   "version": "3.8.5"
  }
 },
 "nbformat": 4,
 "nbformat_minor": 4
}
